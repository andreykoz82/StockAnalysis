{
 "cells": [
  {
   "metadata": {},
   "cell_type": "markdown",
   "source": "https://huggingface.co/autogluon/chronos-bolt-base",
   "id": "fd96220a4f405a84"
  },
  {
   "metadata": {
    "ExecuteTime": {
     "end_time": "2025-02-21T12:20:58.490677Z",
     "start_time": "2025-02-21T12:20:58.487704Z"
    }
   },
   "cell_type": "code",
   "source": "import pandas as pd",
   "id": "7bfa782afbf2b4f5",
   "outputs": [],
   "execution_count": 1
  },
  {
   "metadata": {
    "ExecuteTime": {
     "end_time": "2025-02-21T12:22:06.623625Z",
     "start_time": "2025-02-21T12:22:00.617979Z"
    }
   },
   "cell_type": "code",
   "source": [
    "sales = pd.read_excel('../data/sales.xlsx')\n",
    "sales['Дата'] = pd.to_datetime(sales['Дата'])"
   ],
   "id": "c081272d8009fd74",
   "outputs": [],
   "execution_count": 6
  },
  {
   "metadata": {
    "ExecuteTime": {
     "end_time": "2025-02-21T12:23:10.613368Z",
     "start_time": "2025-02-21T12:23:10.606372Z"
    }
   },
   "cell_type": "code",
   "source": "sales.head()",
   "id": "e46de93951138290",
   "outputs": [
    {
     "data": {
      "text/plain": [
       "                             Номенклатура  Продажи\n",
       "Дата                                              \n",
       "2018-01-01             Крапива листья 50г    12082\n",
       "2018-01-01             Зверобой трава 50г    32144\n",
       "2018-01-01              Аир корневища 75г    11018\n",
       "2018-01-01  Багульник болотный побеги 50г     7000\n",
       "2018-01-01               Береза почки 50г    13118"
      ],
      "text/html": [
       "<div>\n",
       "<style scoped>\n",
       "    .dataframe tbody tr th:only-of-type {\n",
       "        vertical-align: middle;\n",
       "    }\n",
       "\n",
       "    .dataframe tbody tr th {\n",
       "        vertical-align: top;\n",
       "    }\n",
       "\n",
       "    .dataframe thead th {\n",
       "        text-align: right;\n",
       "    }\n",
       "</style>\n",
       "<table border=\"1\" class=\"dataframe\">\n",
       "  <thead>\n",
       "    <tr style=\"text-align: right;\">\n",
       "      <th></th>\n",
       "      <th>Номенклатура</th>\n",
       "      <th>Продажи</th>\n",
       "    </tr>\n",
       "    <tr>\n",
       "      <th>Дата</th>\n",
       "      <th></th>\n",
       "      <th></th>\n",
       "    </tr>\n",
       "  </thead>\n",
       "  <tbody>\n",
       "    <tr>\n",
       "      <th>2018-01-01</th>\n",
       "      <td>Крапива листья 50г</td>\n",
       "      <td>12082</td>\n",
       "    </tr>\n",
       "    <tr>\n",
       "      <th>2018-01-01</th>\n",
       "      <td>Зверобой трава 50г</td>\n",
       "      <td>32144</td>\n",
       "    </tr>\n",
       "    <tr>\n",
       "      <th>2018-01-01</th>\n",
       "      <td>Аир корневища 75г</td>\n",
       "      <td>11018</td>\n",
       "    </tr>\n",
       "    <tr>\n",
       "      <th>2018-01-01</th>\n",
       "      <td>Багульник болотный побеги 50г</td>\n",
       "      <td>7000</td>\n",
       "    </tr>\n",
       "    <tr>\n",
       "      <th>2018-01-01</th>\n",
       "      <td>Береза почки 50г</td>\n",
       "      <td>13118</td>\n",
       "    </tr>\n",
       "  </tbody>\n",
       "</table>\n",
       "</div>"
      ]
     },
     "execution_count": 12,
     "metadata": {},
     "output_type": "execute_result"
    }
   ],
   "execution_count": 12
  },
  {
   "metadata": {
    "ExecuteTime": {
     "end_time": "2025-02-21T12:23:05.800692Z",
     "start_time": "2025-02-21T12:23:05.787790Z"
    }
   },
   "cell_type": "code",
   "source": "sales.set_index('Дата', inplace=True)",
   "id": "bb4f09bd9f80e14e",
   "outputs": [],
   "execution_count": 11
  },
  {
   "metadata": {
    "ExecuteTime": {
     "end_time": "2025-02-21T12:23:42.768411Z",
     "start_time": "2025-02-21T12:23:42.757028Z"
    }
   },
   "cell_type": "code",
   "source": "sales = sales.groupby(pd.Grouper(freq='ME')).sum().drop('Номенклатура', axis=1)",
   "id": "38c3cc0523a03783",
   "outputs": [],
   "execution_count": 15
  },
  {
   "metadata": {
    "ExecuteTime": {
     "end_time": "2025-02-21T12:26:15.561131Z",
     "start_time": "2025-02-21T12:26:15.555865Z"
    }
   },
   "cell_type": "code",
   "source": "train = sales.loc['2018-01-01':'2025-01-31']",
   "id": "4ab446afcf4d5c91",
   "outputs": [],
   "execution_count": 18
  },
  {
   "cell_type": "code",
   "execution_count": null,
   "id": "initial_id",
   "metadata": {
    "collapsed": true
   },
   "outputs": [],
   "source": [
    "from autogluon.timeseries import TimeSeriesPredictor, TimeSeriesDataFrame\n",
    "\n",
    "df = TimeSeriesDataFrame(\"https://autogluon.s3.amazonaws.com/datasets/timeseries/m4_hourly/train.csv\")\n",
    "\n",
    "predictor = TimeSeriesPredictor(prediction_length=48).fit(\n",
    "    df,\n",
    "    hyperparameters={\n",
    "        \"Chronos\": {\"model_path\": \"autogluon/chronos-bolt-base\"},\n",
    "    },\n",
    ")\n",
    "\n",
    "predictions = predictor.predict(df)\n"
   ]
  }
 ],
 "metadata": {
  "kernelspec": {
   "display_name": "Python 3",
   "language": "python",
   "name": "python3"
  },
  "language_info": {
   "codemirror_mode": {
    "name": "ipython",
    "version": 2
   },
   "file_extension": ".py",
   "mimetype": "text/x-python",
   "name": "python",
   "nbconvert_exporter": "python",
   "pygments_lexer": "ipython2",
   "version": "2.7.6"
  }
 },
 "nbformat": 4,
 "nbformat_minor": 5
}
