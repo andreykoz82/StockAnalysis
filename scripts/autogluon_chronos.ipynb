{
 "cells": [
  {
   "metadata": {},
   "cell_type": "markdown",
   "source": "https://huggingface.co/autogluon/chronos-bolt-base",
   "id": "fd96220a4f405a84"
  },
  {
   "metadata": {
    "ExecuteTime": {
     "end_time": "2025-02-21T12:20:58.490677Z",
     "start_time": "2025-02-21T12:20:58.487704Z"
    }
   },
   "cell_type": "code",
   "source": "import pandas as pd",
   "id": "7bfa782afbf2b4f5",
   "outputs": [],
   "execution_count": 1
  },
  {
   "metadata": {
    "ExecuteTime": {
     "end_time": "2025-02-21T12:22:06.623625Z",
     "start_time": "2025-02-21T12:22:00.617979Z"
    }
   },
   "cell_type": "code",
   "source": [
    "sales = pd.read_excel('../data/sales.xlsx')\n",
    "sales['Дата'] = pd.to_datetime(sales['Дата'])"
   ],
   "id": "c081272d8009fd74",
   "outputs": [],
   "execution_count": 6
  },
  {
   "metadata": {
    "ExecuteTime": {
     "end_time": "2025-02-21T12:23:10.613368Z",
     "start_time": "2025-02-21T12:23:10.606372Z"
    }
   },
   "cell_type": "code",
   "source": "sales.head()",
   "id": "e46de93951138290",
   "outputs": [
    {
     "data": {
      "text/plain": [
       "                             Номенклатура  Продажи\n",
       "Дата                                              \n",
       "2018-01-01             Крапива листья 50г    12082\n",
       "2018-01-01             Зверобой трава 50г    32144\n",
       "2018-01-01              Аир корневища 75г    11018\n",
       "2018-01-01  Багульник болотный побеги 50г     7000\n",
       "2018-01-01               Береза почки 50г    13118"
      ],
      "text/html": [
       "<div>\n",
       "<style scoped>\n",
       "    .dataframe tbody tr th:only-of-type {\n",
       "        vertical-align: middle;\n",
       "    }\n",
       "\n",
       "    .dataframe tbody tr th {\n",
       "        vertical-align: top;\n",
       "    }\n",
       "\n",
       "    .dataframe thead th {\n",
       "        text-align: right;\n",
       "    }\n",
       "</style>\n",
       "<table border=\"1\" class=\"dataframe\">\n",
       "  <thead>\n",
       "    <tr style=\"text-align: right;\">\n",
       "      <th></th>\n",
       "      <th>Номенклатура</th>\n",
       "      <th>Продажи</th>\n",
       "    </tr>\n",
       "    <tr>\n",
       "      <th>Дата</th>\n",
       "      <th></th>\n",
       "      <th></th>\n",
       "    </tr>\n",
       "  </thead>\n",
       "  <tbody>\n",
       "    <tr>\n",
       "      <th>2018-01-01</th>\n",
       "      <td>Крапива листья 50г</td>\n",
       "      <td>12082</td>\n",
       "    </tr>\n",
       "    <tr>\n",
       "      <th>2018-01-01</th>\n",
       "      <td>Зверобой трава 50г</td>\n",
       "      <td>32144</td>\n",
       "    </tr>\n",
       "    <tr>\n",
       "      <th>2018-01-01</th>\n",
       "      <td>Аир корневища 75г</td>\n",
       "      <td>11018</td>\n",
       "    </tr>\n",
       "    <tr>\n",
       "      <th>2018-01-01</th>\n",
       "      <td>Багульник болотный побеги 50г</td>\n",
       "      <td>7000</td>\n",
       "    </tr>\n",
       "    <tr>\n",
       "      <th>2018-01-01</th>\n",
       "      <td>Береза почки 50г</td>\n",
       "      <td>13118</td>\n",
       "    </tr>\n",
       "  </tbody>\n",
       "</table>\n",
       "</div>"
      ]
     },
     "execution_count": 12,
     "metadata": {},
     "output_type": "execute_result"
    }
   ],
   "execution_count": 12
  },
  {
   "metadata": {
    "ExecuteTime": {
     "end_time": "2025-02-21T12:23:05.800692Z",
     "start_time": "2025-02-21T12:23:05.787790Z"
    }
   },
   "cell_type": "code",
   "source": "sales.set_index('Дата', inplace=True)",
   "id": "bb4f09bd9f80e14e",
   "outputs": [],
   "execution_count": 11
  },
  {
   "metadata": {
    "ExecuteTime": {
     "end_time": "2025-02-21T12:23:42.768411Z",
     "start_time": "2025-02-21T12:23:42.757028Z"
    }
   },
   "cell_type": "code",
   "source": "sales = sales.groupby(pd.Grouper(freq='ME')).sum().drop('Номенклатура', axis=1)",
   "id": "38c3cc0523a03783",
   "outputs": [],
   "execution_count": 15
  },
  {
   "metadata": {
    "ExecuteTime": {
     "end_time": "2025-02-21T12:26:15.561131Z",
     "start_time": "2025-02-21T12:26:15.555865Z"
    }
   },
   "cell_type": "code",
   "source": "train = sales.loc['2018-01-01':'2025-01-31']",
   "id": "4ab446afcf4d5c91",
   "outputs": [],
   "execution_count": 18
  },
  {
   "cell_type": "code",
   "id": "initial_id",
   "metadata": {
    "collapsed": true,
    "ExecuteTime": {
     "end_time": "2025-02-21T12:33:18.581052Z",
     "start_time": "2025-02-21T12:33:18.552397Z"
    }
   },
   "source": [
    "from autogluon.timeseries import TimeSeriesPredictor, TimeSeriesDataFrame\n",
    "\n",
    "df = TimeSeriesDataFrame(train)\n",
    "\n",
    "predictor = TimeSeriesPredictor(prediction_length=1).fit(\n",
    "    df,\n",
    "    hyperparameters={\n",
    "        \"Chronos\": {\"model_path\": \"autogluon/chronos-bolt-base\"},\n",
    "    },\n",
    ")\n",
    "\n",
    "predictions = predictor.predict(df)\n"
   ],
   "outputs": [
    {
     "ename": "ModuleNotFoundError",
     "evalue": "No module named 'autogluon'",
     "output_type": "error",
     "traceback": [
      "\u001B[1;31m---------------------------------------------------------------------------\u001B[0m",
      "\u001B[1;31mModuleNotFoundError\u001B[0m                       Traceback (most recent call last)",
      "Cell \u001B[1;32mIn[19], line 1\u001B[0m\n\u001B[1;32m----> 1\u001B[0m \u001B[38;5;28;01mfrom\u001B[39;00m \u001B[38;5;21;01mautogluon\u001B[39;00m\u001B[38;5;21;01m.\u001B[39;00m\u001B[38;5;21;01mtimeseries\u001B[39;00m \u001B[38;5;28;01mimport\u001B[39;00m TimeSeriesPredictor, TimeSeriesDataFrame\n\u001B[0;32m      3\u001B[0m df \u001B[38;5;241m=\u001B[39m TimeSeriesDataFrame(train)\n\u001B[0;32m      5\u001B[0m predictor \u001B[38;5;241m=\u001B[39m TimeSeriesPredictor(prediction_length\u001B[38;5;241m=\u001B[39m\u001B[38;5;241m1\u001B[39m)\u001B[38;5;241m.\u001B[39mfit(\n\u001B[0;32m      6\u001B[0m     df,\n\u001B[0;32m      7\u001B[0m     hyperparameters\u001B[38;5;241m=\u001B[39m{\n\u001B[0;32m      8\u001B[0m         \u001B[38;5;124m\"\u001B[39m\u001B[38;5;124mChronos\u001B[39m\u001B[38;5;124m\"\u001B[39m: {\u001B[38;5;124m\"\u001B[39m\u001B[38;5;124mmodel_path\u001B[39m\u001B[38;5;124m\"\u001B[39m: \u001B[38;5;124m\"\u001B[39m\u001B[38;5;124mautogluon/chronos-bolt-base\u001B[39m\u001B[38;5;124m\"\u001B[39m},\n\u001B[0;32m      9\u001B[0m     },\n\u001B[0;32m     10\u001B[0m )\n",
      "\u001B[1;31mModuleNotFoundError\u001B[0m: No module named 'autogluon'"
     ]
    }
   ],
   "execution_count": 19
  }
 ],
 "metadata": {
  "kernelspec": {
   "display_name": "Python 3",
   "language": "python",
   "name": "python3"
  },
  "language_info": {
   "codemirror_mode": {
    "name": "ipython",
    "version": 2
   },
   "file_extension": ".py",
   "mimetype": "text/x-python",
   "name": "python",
   "nbconvert_exporter": "python",
   "pygments_lexer": "ipython2",
   "version": "2.7.6"
  }
 },
 "nbformat": 4,
 "nbformat_minor": 5
}
